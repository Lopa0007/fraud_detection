{
 "cells": [
  {
   "cell_type": "code",
   "execution_count": null,
   "metadata": {},
   "outputs": [],
   "source": [
    "print(\"adding all ML related code here\")\n",
    "def model1():\n",
    "    print(\"adding the code for model1\")\n",
    "\n",
    "def model2():\n",
    "    print(\"adding the code for model2\")\n",
    "\n",
    "def model3():\n",
    "    print(\"adding the code for model3\")\n",
    "\n",
    "print(\"model3 is working best\")\n"
   ]
  }
 ],
 "metadata": {
  "language_info": {
   "name": "python"
  }
 },
 "nbformat": 4,
 "nbformat_minor": 2
}
